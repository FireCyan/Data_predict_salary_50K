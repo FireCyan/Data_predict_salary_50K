{
 "cells": [
  {
   "cell_type": "code",
   "execution_count": null,
   "metadata": {},
   "outputs": [],
   "source": [
    "# Native country to be engineered further.\n",
    "# Maybe use some factors to categorise countries such as: \n",
    "# 1. GPP (Gross average per person)\n",
    "# https://en.wikipedia.org/wiki/List_of_countries_by_GDP_(nominal)_per_capita\n",
    "# 2. Cultural similarities (maybe simply English-speaking and non-English speaking?)\n",
    "# https://www.economist.com/graphic-detail/2019/12/04/where-are-the-worlds-best-english-speakers\n",
    "# https://ceoworld.biz/2019/11/05/revealed-the-worlds-best-non-native-english-speaking-countries-2019/\n",
    "# 3. Geographical location (continent)\n",
    "\n",
    "\n",
    "# Easy version\n",
    "US_check = ['united-states', 'outlying-us(guam-usvi-etc)']\n",
    "\n",
    "# Need to do strip because there is weird space in entries\n",
    "temp_native_country = df_process['native-country'].apply(lambda x: 1 if x.lower().strip() in US_check else 0)\n",
    "\n",
    "native_country_dummy = pd.get_dummies(temp_native_country, prefix='native-country: US or not', prefix_sep='-')\n",
    "\n",
    "\n",
    "df_process = df_process.merge(native_country_dummy, left_index=True, right_index=True)\n",
    "\n",
    "# print(df_process['native-country'][0].lower().strip())\n",
    "\n",
    "# print(df_process['native-country'].value_counts())\n",
    "# print(temp_n_country)\n",
    "# print(native_country_dummy)\n",
    "df_process.head()"
   ]
  },
  {
   "cell_type": "code",
   "execution_count": null,
   "metadata": {},
   "outputs": [],
   "source": [
    "# More complicated method\n",
    "# Get the GDP and English fluency information\n",
    "dict_country_GDP = {}\n",
    "dict_country_Eng_fluency = {}\n",
    "\n",
    "temp_country_GDP # bin this using qcut\n",
    "temp_Eng_fluency # bin this using qcut"
   ]
  },
  {
   "cell_type": "code",
   "execution_count": null,
   "metadata": {},
   "outputs": [],
   "source": [
    "# Similarly perform the same with capital-loss\n",
    "df_process['capital-loss'].describe()\n",
    "\n",
    "bin_cap_loss = pd.qcut(df_process['capital-loss'], q=50, duplicates=\"drop\")\n",
    "\n",
    "print(bin_cap_loss.value_counts())\n",
    "print(df_process[df_process['capital-loss'] < 1590]['capital-loss'].value_counts())\n",
    "\n",
    "# df_process['capital-gain'].value_counts()"
   ]
  }
 ],
 "metadata": {
  "kernelspec": {
   "display_name": "Python 3",
   "language": "python",
   "name": "python3"
  },
  "language_info": {
   "codemirror_mode": {
    "name": "ipython",
    "version": 3
   },
   "file_extension": ".py",
   "mimetype": "text/x-python",
   "name": "python",
   "nbconvert_exporter": "python",
   "pygments_lexer": "ipython3",
   "version": "3.6.4"
  }
 },
 "nbformat": 4,
 "nbformat_minor": 2
}
